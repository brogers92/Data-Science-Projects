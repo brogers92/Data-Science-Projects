{
 "cells": [
  {
   "cell_type": "markdown",
   "id": "b6ef4b95",
   "metadata": {},
   "source": [
    "## DSC550 Week 5: Classification Models and Clustering"
   ]
  },
  {
   "cell_type": "markdown",
   "id": "3b900d32",
   "metadata": {},
   "source": [
    "#### Bryan Rogers\n",
    "#### Bellevue University\n",
    "#### DSC550: Data Mining\n",
    "#### 12/11/23"
   ]
  },
  {
   "cell_type": "markdown",
   "id": "04086e03",
   "metadata": {},
   "source": [
    "### 5.2 Exercise: Build your own Sentiment Analysis Model"
   ]
  },
  {
   "cell_type": "markdown",
   "id": "28aa40eb",
   "metadata": {},
   "source": [
    "#### 1. Get the stemmed data using the same process you did in Week 3."
   ]
  },
  {
   "cell_type": "code",
   "execution_count": 1,
   "id": "3b9076ca",
   "metadata": {},
   "outputs": [],
   "source": [
    "# Import necessary libraries\n",
    "import nltk\n",
    "import sklearn\n",
    "import pandas as pd\n",
    "import numpy as np\n",
    "import yellowbrick\n",
    "import seaborn as sns\n",
    "from textblob import TextBlob\n",
    "import matplotlib.pyplot as plt\n",
    "from nltk.corpus import stopwords\n",
    "from nltk.stem import PorterStemmer\n",
    "from sklearn.metrics import accuracy_score\n",
    "from sklearn.metrics import roc_curve, auc\n",
    "from sklearn.metrics import confusion_matrix\n",
    "from sklearn.linear_model import LogisticRegression\n",
    "from sklearn.model_selection import train_test_split\n",
    "from nltk.sentiment import SentimentIntensityAnalyzer\n",
    "from sklearn.feature_extraction.text import CountVectorizer, TfidfVectorizer"
   ]
  },
  {
   "cell_type": "code",
   "execution_count": 2,
   "id": "a31040d7",
   "metadata": {},
   "outputs": [],
   "source": [
    "import warnings\n",
    "warnings.filterwarnings(\"ignore\")"
   ]
  },
  {
   "cell_type": "code",
   "execution_count": 3,
   "id": "8b74201f",
   "metadata": {},
   "outputs": [],
   "source": [
    "# Load movie review data into a DataFrame\n",
    "df = pd.read_csv('labeledTrainData.tsv', delimiter='\\t')"
   ]
  },
  {
   "cell_type": "code",
   "execution_count": 4,
   "id": "cd677106",
   "metadata": {},
   "outputs": [
    {
     "name": "stdout",
     "output_type": "stream",
     "text": [
      "       id  sentiment                                             review\n",
      "0  5814_8          1  With all this stuff going down at the moment w...\n",
      "1  2381_9          1  \\The Classic War of the Worlds\\\" by Timothy Hi...\n",
      "2  7759_3          0  The film starts with a manager (Nicholas Bell)...\n",
      "3  3630_4          0  It must be assumed that those who praised this...\n",
      "4  9495_8          1  Superbly trashy and wondrously unpretentious 8...\n"
     ]
    }
   ],
   "source": [
    "# Check if the data is loaded properly\n",
    "print(df.head(5))"
   ]
  },
  {
   "cell_type": "code",
   "execution_count": 5,
   "id": "d9eeb213",
   "metadata": {},
   "outputs": [],
   "source": [
    "# Use TextBlob to classify each movie review as positive or negative\n",
    "def classify_sentiment(text):\n",
    "    analysis = TextBlob(text)\n",
    "    return 1 if analysis.sentiment.polarity >= 0 else 0\n",
    "\n",
    "# Apply TextBlob sentiment analysis to the 'review' column\n",
    "df['predicted_sentiment'] = df['review'].apply(classify_sentiment)"
   ]
  },
  {
   "cell_type": "code",
   "execution_count": 6,
   "id": "00eb1c46",
   "metadata": {},
   "outputs": [
    {
     "name": "stdout",
     "output_type": "stream",
     "text": [
      "Accuracy of TextBlob model: 0.68524\n"
     ]
    }
   ],
   "source": [
    "# Check the accuracy of the model\n",
    "accuracy = accuracy_score(df['sentiment'], df['predicted_sentiment'])\n",
    "print(\"Accuracy of TextBlob model:\", accuracy)"
   ]
  },
  {
   "cell_type": "code",
   "execution_count": 7,
   "id": "587de219",
   "metadata": {},
   "outputs": [
    {
     "name": "stderr",
     "output_type": "stream",
     "text": [
      "[nltk_data] Downloading package stopwords to\n",
      "[nltk_data]     /Users/bryansmacbookpro/nltk_data...\n",
      "[nltk_data]   Package stopwords is already up-to-date!\n"
     ]
    },
    {
     "data": {
      "text/plain": [
       "True"
      ]
     },
     "execution_count": 7,
     "metadata": {},
     "output_type": "execute_result"
    }
   ],
   "source": [
    "# Download NLTK resources (stopwords)\n",
    "nltk.download('stopwords')"
   ]
  },
  {
   "cell_type": "code",
   "execution_count": 8,
   "id": "73eb8779",
   "metadata": {},
   "outputs": [],
   "source": [
    "# Convert to lowercase\n",
    "df['processed_review'] = df['review'].apply(lambda x: x.lower())"
   ]
  },
  {
   "cell_type": "code",
   "execution_count": 9,
   "id": "01116c88",
   "metadata": {},
   "outputs": [],
   "source": [
    "# Remove punctuation and special characters\n",
    "df['processed_review'] = df['processed_review'].apply(lambda x: ''.join([char for char in x if char.isalnum() or char.isspace()]))"
   ]
  },
  {
   "cell_type": "code",
   "execution_count": 10,
   "id": "0cf0e081",
   "metadata": {},
   "outputs": [],
   "source": [
    "# Remove stop words\n",
    "stop_words = set(stopwords.words('english'))\n",
    "df['processed_review'] = df['processed_review'].apply(lambda x: ' '.join([word for word in x.split() if word not in stop_words]))"
   ]
  },
  {
   "cell_type": "code",
   "execution_count": 11,
   "id": "6bb40a90",
   "metadata": {},
   "outputs": [],
   "source": [
    "ps = PorterStemmer()\n",
    "df['processed_review'] = df['processed_review'].apply(lambda x: ' '.join([ps.stem(word) for word in x.split()]))"
   ]
  },
  {
   "cell_type": "code",
   "execution_count": 12,
   "id": "f597a869",
   "metadata": {},
   "outputs": [
    {
     "data": {
      "text/html": [
       "<div>\n",
       "<style scoped>\n",
       "    .dataframe tbody tr th:only-of-type {\n",
       "        vertical-align: middle;\n",
       "    }\n",
       "\n",
       "    .dataframe tbody tr th {\n",
       "        vertical-align: top;\n",
       "    }\n",
       "\n",
       "    .dataframe thead th {\n",
       "        text-align: right;\n",
       "    }\n",
       "</style>\n",
       "<table border=\"1\" class=\"dataframe\">\n",
       "  <thead>\n",
       "    <tr style=\"text-align: right;\">\n",
       "      <th></th>\n",
       "      <th>id</th>\n",
       "      <th>sentiment</th>\n",
       "      <th>review</th>\n",
       "      <th>predicted_sentiment</th>\n",
       "      <th>processed_review</th>\n",
       "    </tr>\n",
       "  </thead>\n",
       "  <tbody>\n",
       "    <tr>\n",
       "      <th>0</th>\n",
       "      <td>5814_8</td>\n",
       "      <td>1</td>\n",
       "      <td>With all this stuff going down at the moment w...</td>\n",
       "      <td>1</td>\n",
       "      <td>stuff go moment mj ive start listen music watc...</td>\n",
       "    </tr>\n",
       "    <tr>\n",
       "      <th>1</th>\n",
       "      <td>2381_9</td>\n",
       "      <td>1</td>\n",
       "      <td>\\The Classic War of the Worlds\\\" by Timothy Hi...</td>\n",
       "      <td>1</td>\n",
       "      <td>classic war world timothi hine entertain film ...</td>\n",
       "    </tr>\n",
       "    <tr>\n",
       "      <th>2</th>\n",
       "      <td>7759_3</td>\n",
       "      <td>0</td>\n",
       "      <td>The film starts with a manager (Nicholas Bell)...</td>\n",
       "      <td>0</td>\n",
       "      <td>film start manag nichola bell give welcom inve...</td>\n",
       "    </tr>\n",
       "    <tr>\n",
       "      <th>3</th>\n",
       "      <td>3630_4</td>\n",
       "      <td>0</td>\n",
       "      <td>It must be assumed that those who praised this...</td>\n",
       "      <td>1</td>\n",
       "      <td>must assum prais film greatest film opera ever...</td>\n",
       "    </tr>\n",
       "    <tr>\n",
       "      <th>4</th>\n",
       "      <td>9495_8</td>\n",
       "      <td>1</td>\n",
       "      <td>Superbly trashy and wondrously unpretentious 8...</td>\n",
       "      <td>0</td>\n",
       "      <td>superbl trashi wondrous unpretenti 80 exploit ...</td>\n",
       "    </tr>\n",
       "  </tbody>\n",
       "</table>\n",
       "</div>"
      ],
      "text/plain": [
       "       id  sentiment                                             review  \\\n",
       "0  5814_8          1  With all this stuff going down at the moment w...   \n",
       "1  2381_9          1  \\The Classic War of the Worlds\\\" by Timothy Hi...   \n",
       "2  7759_3          0  The film starts with a manager (Nicholas Bell)...   \n",
       "3  3630_4          0  It must be assumed that those who praised this...   \n",
       "4  9495_8          1  Superbly trashy and wondrously unpretentious 8...   \n",
       "\n",
       "   predicted_sentiment                                   processed_review  \n",
       "0                    1  stuff go moment mj ive start listen music watc...  \n",
       "1                    1  classic war world timothi hine entertain film ...  \n",
       "2                    0  film start manag nichola bell give welcom inve...  \n",
       "3                    1  must assum prais film greatest film opera ever...  \n",
       "4                    0  superbl trashi wondrous unpretenti 80 exploit ...  "
      ]
     },
     "execution_count": 12,
     "metadata": {},
     "output_type": "execute_result"
    }
   ],
   "source": [
    "df.head(5)"
   ]
  },
  {
   "cell_type": "code",
   "execution_count": 13,
   "id": "1011025f",
   "metadata": {},
   "outputs": [
    {
     "data": {
      "text/plain": [
       "(25000, 5)"
      ]
     },
     "execution_count": 13,
     "metadata": {},
     "output_type": "execute_result"
    }
   ],
   "source": [
    "df.shape"
   ]
  },
  {
   "cell_type": "code",
   "execution_count": 14,
   "id": "dec13787",
   "metadata": {},
   "outputs": [
    {
     "data": {
      "text/plain": [
       "id                     object\n",
       "sentiment               int64\n",
       "review                 object\n",
       "predicted_sentiment     int64\n",
       "processed_review       object\n",
       "dtype: object"
      ]
     },
     "execution_count": 14,
     "metadata": {},
     "output_type": "execute_result"
    }
   ],
   "source": [
    "df.dtypes"
   ]
  },
  {
   "cell_type": "markdown",
   "id": "3ff4038e",
   "metadata": {},
   "source": [
    "#### 2. Split this into a training and test set."
   ]
  },
  {
   "cell_type": "code",
   "execution_count": 15,
   "id": "494ad0fa",
   "metadata": {},
   "outputs": [],
   "source": [
    "# Create a training and test dataset\n",
    "X = df['processed_review']\n",
    "y = df['sentiment']\n",
    "\n",
    "X_train, X_test, y_train, y_test = train_test_split(X, y, test_size=0.2, random_state=42)"
   ]
  },
  {
   "cell_type": "code",
   "execution_count": 16,
   "id": "81797fd2",
   "metadata": {},
   "outputs": [
    {
     "name": "stdout",
     "output_type": "stream",
     "text": [
      "(20000,)\n",
      "(5000,)\n"
     ]
    }
   ],
   "source": [
    "# Print the shapes of the test and training data sets\n",
    "print(X_train.shape)\n",
    "print(X_test.shape)"
   ]
  },
  {
   "cell_type": "markdown",
   "id": "d28a4014",
   "metadata": {},
   "source": [
    "#### 3. Fit and apply the tf-idf vectorization to the training set."
   ]
  },
  {
   "cell_type": "code",
   "execution_count": 17,
   "id": "f0e84a1e",
   "metadata": {},
   "outputs": [
    {
     "data": {
      "text/plain": [
       "(20000, 80823)"
      ]
     },
     "execution_count": 17,
     "metadata": {},
     "output_type": "execute_result"
    }
   ],
   "source": [
    "tfidf_vectorizer = TfidfVectorizer()\n",
    "X_train_tfidf = tfidf_vectorizer.fit_transform(X_train)\n",
    "\n",
    "X_train_tfidf.shape"
   ]
  },
  {
   "cell_type": "markdown",
   "id": "6ed2007c",
   "metadata": {},
   "source": [
    "#### 4. Apply but DO NOT FIT the tf-idf vectorization to the test set (Why?)."
   ]
  },
  {
   "cell_type": "code",
   "execution_count": 18,
   "id": "7ce7b92f",
   "metadata": {},
   "outputs": [
    {
     "data": {
      "text/plain": [
       "(5000, 80823)"
      ]
     },
     "execution_count": 18,
     "metadata": {},
     "output_type": "execute_result"
    }
   ],
   "source": [
    "X_test_tfidf = tfidf_vectorizer.transform(X_test)\n",
    "\n",
    "X_test_tfidf.shape"
   ]
  },
  {
   "cell_type": "markdown",
   "id": "65e8f760",
   "metadata": {},
   "source": [
    "I fit the vectorizer on the training set to learn the vocabulary and TF-IDF values, and then applied the same vectorizer (without re-fitting) to the test set to maintain consistency and evaluate the model's generalization performance on unseen data."
   ]
  },
  {
   "cell_type": "markdown",
   "id": "7b31b460",
   "metadata": {},
   "source": [
    "#### 5. Train a logistic regression using the training data."
   ]
  },
  {
   "cell_type": "code",
   "execution_count": 19,
   "id": "1d6bc5dc",
   "metadata": {},
   "outputs": [
    {
     "data": {
      "text/html": [
       "<style>#sk-container-id-1 {color: black;}#sk-container-id-1 pre{padding: 0;}#sk-container-id-1 div.sk-toggleable {background-color: white;}#sk-container-id-1 label.sk-toggleable__label {cursor: pointer;display: block;width: 100%;margin-bottom: 0;padding: 0.3em;box-sizing: border-box;text-align: center;}#sk-container-id-1 label.sk-toggleable__label-arrow:before {content: \"▸\";float: left;margin-right: 0.25em;color: #696969;}#sk-container-id-1 label.sk-toggleable__label-arrow:hover:before {color: black;}#sk-container-id-1 div.sk-estimator:hover label.sk-toggleable__label-arrow:before {color: black;}#sk-container-id-1 div.sk-toggleable__content {max-height: 0;max-width: 0;overflow: hidden;text-align: left;background-color: #f0f8ff;}#sk-container-id-1 div.sk-toggleable__content pre {margin: 0.2em;color: black;border-radius: 0.25em;background-color: #f0f8ff;}#sk-container-id-1 input.sk-toggleable__control:checked~div.sk-toggleable__content {max-height: 200px;max-width: 100%;overflow: auto;}#sk-container-id-1 input.sk-toggleable__control:checked~label.sk-toggleable__label-arrow:before {content: \"▾\";}#sk-container-id-1 div.sk-estimator input.sk-toggleable__control:checked~label.sk-toggleable__label {background-color: #d4ebff;}#sk-container-id-1 div.sk-label input.sk-toggleable__control:checked~label.sk-toggleable__label {background-color: #d4ebff;}#sk-container-id-1 input.sk-hidden--visually {border: 0;clip: rect(1px 1px 1px 1px);clip: rect(1px, 1px, 1px, 1px);height: 1px;margin: -1px;overflow: hidden;padding: 0;position: absolute;width: 1px;}#sk-container-id-1 div.sk-estimator {font-family: monospace;background-color: #f0f8ff;border: 1px dotted black;border-radius: 0.25em;box-sizing: border-box;margin-bottom: 0.5em;}#sk-container-id-1 div.sk-estimator:hover {background-color: #d4ebff;}#sk-container-id-1 div.sk-parallel-item::after {content: \"\";width: 100%;border-bottom: 1px solid gray;flex-grow: 1;}#sk-container-id-1 div.sk-label:hover label.sk-toggleable__label {background-color: #d4ebff;}#sk-container-id-1 div.sk-serial::before {content: \"\";position: absolute;border-left: 1px solid gray;box-sizing: border-box;top: 0;bottom: 0;left: 50%;z-index: 0;}#sk-container-id-1 div.sk-serial {display: flex;flex-direction: column;align-items: center;background-color: white;padding-right: 0.2em;padding-left: 0.2em;position: relative;}#sk-container-id-1 div.sk-item {position: relative;z-index: 1;}#sk-container-id-1 div.sk-parallel {display: flex;align-items: stretch;justify-content: center;background-color: white;position: relative;}#sk-container-id-1 div.sk-item::before, #sk-container-id-1 div.sk-parallel-item::before {content: \"\";position: absolute;border-left: 1px solid gray;box-sizing: border-box;top: 0;bottom: 0;left: 50%;z-index: -1;}#sk-container-id-1 div.sk-parallel-item {display: flex;flex-direction: column;z-index: 1;position: relative;background-color: white;}#sk-container-id-1 div.sk-parallel-item:first-child::after {align-self: flex-end;width: 50%;}#sk-container-id-1 div.sk-parallel-item:last-child::after {align-self: flex-start;width: 50%;}#sk-container-id-1 div.sk-parallel-item:only-child::after {width: 0;}#sk-container-id-1 div.sk-dashed-wrapped {border: 1px dashed gray;margin: 0 0.4em 0.5em 0.4em;box-sizing: border-box;padding-bottom: 0.4em;background-color: white;}#sk-container-id-1 div.sk-label label {font-family: monospace;font-weight: bold;display: inline-block;line-height: 1.2em;}#sk-container-id-1 div.sk-label-container {text-align: center;}#sk-container-id-1 div.sk-container {/* jupyter's `normalize.less` sets `[hidden] { display: none; }` but bootstrap.min.css set `[hidden] { display: none !important; }` so we also need the `!important` here to be able to override the default hidden behavior on the sphinx rendered scikit-learn.org. See: https://github.com/scikit-learn/scikit-learn/issues/21755 */display: inline-block !important;position: relative;}#sk-container-id-1 div.sk-text-repr-fallback {display: none;}</style><div id=\"sk-container-id-1\" class=\"sk-top-container\"><div class=\"sk-text-repr-fallback\"><pre>LogisticRegression()</pre><b>In a Jupyter environment, please rerun this cell to show the HTML representation or trust the notebook. <br />On GitHub, the HTML representation is unable to render, please try loading this page with nbviewer.org.</b></div><div class=\"sk-container\" hidden><div class=\"sk-item\"><div class=\"sk-estimator sk-toggleable\"><input class=\"sk-toggleable__control sk-hidden--visually\" id=\"sk-estimator-id-1\" type=\"checkbox\" checked><label for=\"sk-estimator-id-1\" class=\"sk-toggleable__label sk-toggleable__label-arrow\">LogisticRegression</label><div class=\"sk-toggleable__content\"><pre>LogisticRegression()</pre></div></div></div></div></div>"
      ],
      "text/plain": [
       "LogisticRegression()"
      ]
     },
     "execution_count": 19,
     "metadata": {},
     "output_type": "execute_result"
    }
   ],
   "source": [
    "logreg_model = LogisticRegression()\n",
    "logreg_model.fit(X_train_tfidf, y_train)"
   ]
  },
  {
   "cell_type": "markdown",
   "id": "310272f3",
   "metadata": {},
   "source": [
    "#### 6. Find the model accuracy on test set."
   ]
  },
  {
   "cell_type": "code",
   "execution_count": 20,
   "id": "da332970",
   "metadata": {},
   "outputs": [
    {
     "name": "stdout",
     "output_type": "stream",
     "text": [
      "Accuracy: 0.8874\n"
     ]
    }
   ],
   "source": [
    "y_pred = logreg_model.predict(X_test_tfidf)\n",
    "accuracy = accuracy_score(y_test, y_pred)\n",
    "print(f\"Accuracy: {accuracy}\")"
   ]
  },
  {
   "cell_type": "markdown",
   "id": "6e2b5538",
   "metadata": {},
   "source": [
    "#### 7. Create a confusion matrix for the test set predictions."
   ]
  },
  {
   "cell_type": "code",
   "execution_count": 21,
   "id": "dd4e2637",
   "metadata": {},
   "outputs": [
    {
     "name": "stdout",
     "output_type": "stream",
     "text": [
      "Confusion Matrix:\n",
      "[[2163  318]\n",
      " [ 245 2274]]\n"
     ]
    }
   ],
   "source": [
    "conf_matrix = confusion_matrix(y_test, y_pred)\n",
    "print(f\"Confusion Matrix:\\n{conf_matrix}\")"
   ]
  },
  {
   "cell_type": "markdown",
   "id": "4d2a299a",
   "metadata": {},
   "source": [
    "#### 8. Get the precision, recall, and F1-score for the test set predictions."
   ]
  },
  {
   "cell_type": "code",
   "execution_count": 22,
   "id": "dc8d9d5c",
   "metadata": {},
   "outputs": [
    {
     "name": "stdout",
     "output_type": "stream",
     "text": [
      "Precision: 0.8773\n",
      "Recall: 0.9027\n",
      "F1-score: 0.8898\n"
     ]
    }
   ],
   "source": [
    "from sklearn.metrics import precision_score, recall_score, f1_score\n",
    "\n",
    "# Calculate Precision\n",
    "precision = precision_score(y_test, y_pred)\n",
    "print(f'Precision: {precision:.4f}')\n",
    "\n",
    "# Calculate Recall\n",
    "recall = recall_score(y_test, y_pred)\n",
    "print(f'Recall: {recall:.4f}')\n",
    "\n",
    "# Calculate F1-score\n",
    "f1 = f1_score(y_test, y_pred)\n",
    "print(f'F1-score: {f1:.4f}')"
   ]
  },
  {
   "cell_type": "markdown",
   "id": "582da587",
   "metadata": {},
   "source": [
    "#### 9. Create a ROC curve for the test set."
   ]
  },
  {
   "cell_type": "code",
   "execution_count": 23,
   "id": "e9e0b29f",
   "metadata": {},
   "outputs": [
    {
     "name": "stdout",
     "output_type": "stream",
     "text": [
      "ROC Curve:\n",
      "0.9556227167681206\n"
     ]
    }
   ],
   "source": [
    "fpr, tpr, thresholds = roc_curve(y_test, logreg_model.predict_proba(X_test_tfidf)[:, 1])\n",
    "roc_auc = auc(fpr, tpr)\n",
    "\n",
    "print(f\"ROC Curve:\\n{roc_auc}\")"
   ]
  },
  {
   "cell_type": "code",
   "execution_count": 24,
   "id": "d69064de",
   "metadata": {
    "scrolled": true
   },
   "outputs": [
    {
     "data": {
      "image/png": "[encoded data removed]",
      "text/plain": [
       "<Figure size 800x550 with 1 Axes>"
      ]
     },
     "metadata": {},
     "output_type": "display_data"
    }
   ],
   "source": [
    "plt.figure()\n",
    "plt.plot(fpr, tpr, color='teal', lw=2, label='ROC curve (area = %0.2f)' % roc_auc)\n",
    "plt.plot([0, 1], [0, 1], color='black', lw=2, linestyle='--')\n",
    "plt.xlabel('False Positive Rate')\n",
    "plt.ylabel('True Positive Rate')\n",
    "plt.title('Receiver Operating Characteristic (ROC) Curve')\n",
    "plt.legend(loc=\"lower right\")\n",
    "plt.show()"
   ]
  },
  {
   "cell_type": "markdown",
   "id": "58838bd9",
   "metadata": {},
   "source": [
    "#### 10. Pick another classification model you learned about this week and repeat steps (5) – (9)."
   ]
  },
  {
   "cell_type": "code",
   "execution_count": 25,
   "id": "1f0876ed",
   "metadata": {},
   "outputs": [],
   "source": [
    "from sklearn.svm import SVC"
   ]
  },
  {
   "cell_type": "code",
   "execution_count": null,
   "id": "577d914c",
   "metadata": {},
   "outputs": [],
   "source": [
    "# Step 4: Train a Support Vector Machine (SVM) Model\n",
    "svm_model = SVC(probability=True)  # probability=True for ROC curve later\n",
    "svm_model.fit(X_train_tfidf, y_train)\n",
    "\n",
    "svm_model.shape"
   ]
  },
  {
   "cell_type": "code",
   "execution_count": null,
   "id": "b39e32d4",
   "metadata": {},
   "outputs": [],
   "source": [
    "# Step 5: Evaluate SVM Model Accuracy\n",
    "y_pred_svm = svm_model.predict(X_test_tfidf)\n",
    "accuracy_svm = accuracy_score(y_test, y_pred_svm)\n",
    "print(f\"SVM Model Accuracy: {accuracy_svm}\")"
   ]
  },
  {
   "cell_type": "code",
   "execution_count": null,
   "id": "060d31a6",
   "metadata": {},
   "outputs": [],
   "source": [
    "# Step 6: Create a Confusion Matrix for SVM\n",
    "conf_matrix_svm = confusion_matrix(y_test, y_pred_svm)\n",
    "print(f\"SVM Confusion Matrix:\\n{conf_matrix_svm}\")"
   ]
  },
  {
   "cell_type": "code",
   "execution_count": null,
   "id": "f6dde167",
   "metadata": {},
   "outputs": [],
   "source": [
    "# Step 7: Calculate Precision, Recall, and F1-score for SVM\n",
    "# Calculate Precision\n",
    "precision = precision_score(y_test, y_pred_svm)\n",
    "print(f'Precision: {precision:.4f}')\n",
    "\n",
    "# Calculate Recall\n",
    "recall = recall_score(y_test, y_pred_svm)\n",
    "print(f'Recall: {recall:.4f}')\n",
    "\n",
    "# Calculate F1-score\n",
    "f1 = f1_score(y_test, y_pred_svm)\n",
    "print(f'F1-score: {f1:.4f}')"
   ]
  },
  {
   "cell_type": "code",
   "execution_count": null,
   "id": "e3766b6c",
   "metadata": {},
   "outputs": [],
   "source": [
    "# Step 8: Create a ROC Curve for SVM\n",
    "fpr_svm, tpr_svm, thresholds_svm = roc_curve(y_test, svm_model.predict_proba(X_test_tfidf)[:, 1])\n",
    "roc_auc_svm = auc(fpr_svm, tpr_svm)"
   ]
  },
  {
   "cell_type": "code",
   "execution_count": null,
   "id": "db92fc39",
   "metadata": {},
   "outputs": [],
   "source": [
    "# Plot ROC curve for SVM\n",
    "plt.figure()\n",
    "plt.plot(fpr_svm, tpr_svm, color='darkorange', lw=2, label='ROC curve (area = %0.2f)' % roc_auc_svm)\n",
    "plt.plot([0, 1], [0, 1], color='navy', lw=2, linestyle='--')\n",
    "plt.xlabel('False Positive Rate')\n",
    "plt.ylabel('True Positive Rate')\n",
    "plt.title('SVM ROC Curve')\n",
    "plt.legend(loc=\"lower right\")\n",
    "plt.show()"
   ]
  },
  {
   "cell_type": "code",
   "execution_count": null,
   "id": "edf120dc",
   "metadata": {},
   "outputs": [],
   "source": []
  }
 ],
 "metadata": {
  "kernelspec": {
   "display_name": "Python 3 (ipykernel)",
   "language": "python",
   "name": "python3"
  },
  "language_info": {
   "codemirror_mode": {
    "name": "ipython",
    "version": 3
   },
   "file_extension": ".py",
   "mimetype": "text/x-python",
   "name": "python",
   "nbconvert_exporter": "python",
   "pygments_lexer": "ipython3",
   "version": "3.11.4"
  }
 },
 "nbformat": 4,
 "nbformat_minor": 5
}
